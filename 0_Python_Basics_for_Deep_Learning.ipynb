{
  "nbformat": 4,
  "nbformat_minor": 0,
  "metadata": {
    "colab": {
      "provenance": []
    },
    "kernelspec": {
      "name": "python3",
      "display_name": "Python 3"
    },
    "language_info": {
      "name": "python"
    }
  },
  "cells": [
    {
      "cell_type": "markdown",
      "source": [
        "# Python Basics for Deep Learning\n",
        "\n",
        "In this notebook, we will cover the basics of Python programming and introduce NumPy, a powerful library for numerical computations. These foundational skills are essential for understanding and implementing deep learning models."
      ],
      "metadata": {
        "id": "XA0TUJwQ9ELl"
      }
    },
    {
      "cell_type": "markdown",
      "source": [
        "## Python Basics\n",
        "\n",
        "Let's start with some basic Python concepts."
      ],
      "metadata": {
        "id": "WP9LwssO9QNi"
      }
    },
    {
      "cell_type": "code",
      "execution_count": null,
      "metadata": {
        "colab": {
          "base_uri": "https://localhost:8080/"
        },
        "id": "RGK1gX_m9CAE",
        "outputId": "7e4ae3d1-cbb6-47fe-a3d6-31187fac6b87"
      },
      "outputs": [
        {
          "output_type": "stream",
          "name": "stdout",
          "text": [
            "a: 5, type: <class 'int'>\n",
            "b: 3.2, type: <class 'float'>\n",
            "c: Hello, type: <class 'str'>\n",
            "d: True, type: <class 'bool'>\n",
            "e: [1, 2, 3], type: <class 'list'>\n",
            "f: {'name': 'Alice', 'age': 25}, type: <class 'dict'>\n"
          ]
        }
      ],
      "source": [
        "# Integer\n",
        "a = 5\n",
        "print(f\"a: {a}, type: {type(a)}\")  # f-strings provide a way to embed expressions inside string literals\n",
        "\n",
        "# Float\n",
        "b = 3.2\n",
        "print(f\"b: {b}, type: {type(b)}\")\n",
        "\n",
        "# String\n",
        "c = \"Hello\"\n",
        "print(f\"c: {c}, type: {type(c)}\")\n",
        "\n",
        "# Boolean\n",
        "d = True\n",
        "print(f\"d: {d}, type: {type(d)}\")\n",
        "\n",
        "# List\n",
        "e = [1, 2, 3]\n",
        "print(f\"e: {e}, type: {type(e)}\")\n",
        "\n",
        "# Dictionary\n",
        "f = {'name': 'Alice', 'age': 25}\n",
        "print(f\"f: {f}, type: {type(f)}\")"
      ]
    },
    {
      "cell_type": "code",
      "source": [
        "# If-Else\n",
        "x = 10\n",
        "if x > 5:\n",
        "    print(\"x is greater than 5\")\n",
        "else:\n",
        "    print(\"x is not greater than 5\")"
      ],
      "metadata": {
        "colab": {
          "base_uri": "https://localhost:8080/"
        },
        "id": "rigZUO-k9ueK",
        "outputId": "b6832741-7dd4-4acb-af4a-73a4ef2780da"
      },
      "execution_count": null,
      "outputs": [
        {
          "output_type": "stream",
          "name": "stdout",
          "text": [
            "x is greater than 5\n"
          ]
        }
      ]
    },
    {
      "cell_type": "code",
      "source": [
        "# For Loop\n",
        "for i in range(5):\n",
        "    print(i)"
      ],
      "metadata": {
        "colab": {
          "base_uri": "https://localhost:8080/"
        },
        "id": "xoAGGYUF91Aw",
        "outputId": "901d137f-2800-482c-b9ed-64966472d5b8"
      },
      "execution_count": null,
      "outputs": [
        {
          "output_type": "stream",
          "name": "stdout",
          "text": [
            "0\n",
            "1\n",
            "2\n",
            "3\n",
            "4\n"
          ]
        }
      ]
    },
    {
      "cell_type": "code",
      "source": [
        "# While Loop\n",
        "count = 0\n",
        "while count < 5:\n",
        "    print(count)\n",
        "    count += 1"
      ],
      "metadata": {
        "colab": {
          "base_uri": "https://localhost:8080/"
        },
        "id": "2GrRvUsP92Zx",
        "outputId": "11757796-ac69-4714-9e4a-701b0d0eb2bc"
      },
      "execution_count": null,
      "outputs": [
        {
          "output_type": "stream",
          "name": "stdout",
          "text": [
            "0\n",
            "1\n",
            "2\n",
            "3\n",
            "4\n"
          ]
        }
      ]
    },
    {
      "cell_type": "markdown",
      "source": [
        "### Exercise\n",
        "\n",
        "Create a list of numbers from 1 to 10 and print the square of each number using a for loop."
      ],
      "metadata": {
        "id": "m_K3lTwL95P9"
      }
    },
    {
      "cell_type": "code",
      "source": [
        "# Create a list of numbers from 1 to 10\n",
        "numbers = [1, 2, 3, 4, 5, 6, 7, 8, 9, 10]\n",
        "\n",
        "# Loop through each number and print its square\n",
        "for number in numbers:\n",
        "    square = number ** 2\n",
        "    print(f\"The square of {number} is {square}\")"
      ],
      "metadata": {
        "colab": {
          "base_uri": "https://localhost:8080/"
        },
        "id": "e39yN3ON96py",
        "outputId": "2514adf7-136d-451d-ff9a-fd852832ae09"
      },
      "execution_count": null,
      "outputs": [
        {
          "output_type": "stream",
          "name": "stdout",
          "text": [
            "The square of 1 is 1\n",
            "The square of 2 is 4\n",
            "The square of 3 is 9\n",
            "The square of 4 is 16\n",
            "The square of 5 is 25\n",
            "The square of 6 is 36\n",
            "The square of 7 is 49\n",
            "The square of 8 is 64\n",
            "The square of 9 is 81\n",
            "The square of 10 is 100\n"
          ]
        }
      ]
    },
    {
      "cell_type": "code",
      "source": [
        "# Function Definition\n",
        "def add(a, b):\n",
        "    return a + b\n",
        "\n",
        "# Function Call\n",
        "result = add(3, 5)\n",
        "print(f\"Result of addition: {result}\")"
      ],
      "metadata": {
        "colab": {
          "base_uri": "https://localhost:8080/"
        },
        "id": "OVDpKFLX-S0v",
        "outputId": "fc4562e9-13e3-4a24-a717-ebd6accf87bb"
      },
      "execution_count": null,
      "outputs": [
        {
          "output_type": "stream",
          "name": "stdout",
          "text": [
            "Result of addition: 8\n"
          ]
        }
      ]
    },
    {
      "cell_type": "code",
      "source": [
        "# Recursive Function (Factorial)\n",
        "def factorial(n):\n",
        "    if n == 0:\n",
        "        return 1\n",
        "    else:\n",
        "        return n * factorial(n-1)\n",
        "\n",
        "# Factorial of 5\n",
        "print(f\"Factorial of 5: {factorial(5)}\")"
      ],
      "metadata": {
        "colab": {
          "base_uri": "https://localhost:8080/"
        },
        "id": "VhQcDXR0-W5C",
        "outputId": "91fead7b-9d39-4602-9973-3ecc719a4a9a"
      },
      "execution_count": null,
      "outputs": [
        {
          "output_type": "stream",
          "name": "stdout",
          "text": [
            "Factorial of 5: 120\n"
          ]
        }
      ]
    },
    {
      "cell_type": "markdown",
      "source": [
        "### Exercise\n",
        "\n",
        "Write a Python function to find the factorial of a number using a loop."
      ],
      "metadata": {
        "id": "gyvM_iom-cUg"
      }
    },
    {
      "cell_type": "code",
      "source": [
        "def factorial(n):\n",
        "    result = 1\n",
        "    for i in range(1, n + 1):\n",
        "        result = result * i\n",
        "    return result\n",
        "\n",
        "# Test the function\n",
        "number = 5\n",
        "print(f\"The factorial of {number} is {factorial(number)}\")"
      ],
      "metadata": {
        "colab": {
          "base_uri": "https://localhost:8080/"
        },
        "id": "onfvBteG-doH",
        "outputId": "43aa5da2-2b21-4cd6-8d6b-731547ba28e8"
      },
      "execution_count": null,
      "outputs": [
        {
          "output_type": "stream",
          "name": "stdout",
          "text": [
            "The factorial of 5 is 120\n"
          ]
        }
      ]
    },
    {
      "cell_type": "markdown",
      "source": [
        "## Introduction to NumPy\n",
        "\n",
        "NumPy is a powerful library for numerical computations. It provides support for arrays, matrices, and many mathematical functions."
      ],
      "metadata": {
        "id": "vjQ8QsXW-7Fg"
      }
    },
    {
      "cell_type": "code",
      "source": [
        "import numpy as np\n",
        "\n",
        "# Creating Arrays\n",
        "arr = np.array([1, 2, 3, 4])\n",
        "print(f\"Array: {arr}, type: {type(arr)}\")\n",
        "\n",
        "# Array of zeros\n",
        "zeros = np.zeros(3)\n",
        "print(f\"Array of zeros:\\n{zeros}\")\n",
        "\n",
        "# Array of ones\n",
        "ones = np.ones(2)\n",
        "print(f\"Array of ones:\\n{ones}\")\n",
        "\n",
        "# Random Array\n",
        "random_arr = np.random.random(3)\n",
        "print(f\"Random array:\\n{random_arr}\")"
      ],
      "metadata": {
        "colab": {
          "base_uri": "https://localhost:8080/"
        },
        "id": "-rq7cGZH-7-1",
        "outputId": "aabff2c9-c2fb-4d3a-892f-f1343a3e6676"
      },
      "execution_count": null,
      "outputs": [
        {
          "output_type": "stream",
          "name": "stdout",
          "text": [
            "Array: [1 2 3 4], type: <class 'numpy.ndarray'>\n",
            "Array of zeros:\n",
            "[0. 0. 0.]\n",
            "Array of ones:\n",
            "[1. 1.]\n",
            "Random array:\n",
            "[0.93792832 0.19027025 0.96861356]\n"
          ]
        }
      ]
    },
    {
      "cell_type": "code",
      "source": [
        "# Element-wise addition\n",
        "arr1 = np.array([1, 2, 3])\n",
        "arr2 = np.array([4, 5, 6])\n",
        "sum_arr = arr1 + arr2\n",
        "print(f\"Element-wise addition: {sum_arr}\")"
      ],
      "metadata": {
        "colab": {
          "base_uri": "https://localhost:8080/"
        },
        "id": "P5GzXJKF_EKp",
        "outputId": "0c66e61e-3d0e-4cbd-b7f2-900b33079548"
      },
      "execution_count": null,
      "outputs": [
        {
          "output_type": "stream",
          "name": "stdout",
          "text": [
            "Element-wise addition: [5 7 9]\n"
          ]
        }
      ]
    },
    {
      "cell_type": "code",
      "source": [
        "# Element-wise multiplication\n",
        "mul_arr = arr1 * arr2\n",
        "print(f\"Element-wise multiplication: {mul_arr}\")"
      ],
      "metadata": {
        "colab": {
          "base_uri": "https://localhost:8080/"
        },
        "id": "XJzBKKiU_GX6",
        "outputId": "092be719-b737-454f-ef69-e7f72330dc0b"
      },
      "execution_count": null,
      "outputs": [
        {
          "output_type": "stream",
          "name": "stdout",
          "text": [
            "Element-wise multiplication: [ 4 10 18]\n"
          ]
        }
      ]
    },
    {
      "cell_type": "code",
      "source": [
        "# Dot Product\n",
        "dot_product = np.dot(arr1, arr2)\n",
        "print(f\"Dot product: {dot_product}\")"
      ],
      "metadata": {
        "colab": {
          "base_uri": "https://localhost:8080/"
        },
        "id": "v7dIxuFI_JB2",
        "outputId": "a4281e76-a61a-401a-809d-784c06e1439e"
      },
      "execution_count": null,
      "outputs": [
        {
          "output_type": "stream",
          "name": "stdout",
          "text": [
            "Dot product: 32\n"
          ]
        }
      ]
    },
    {
      "cell_type": "markdown",
      "source": [
        "### Exercise\n",
        "\n",
        "Write a custom function to calculate the dot product of two arrays."
      ],
      "metadata": {
        "id": "UcoOKSk2_cq-"
      }
    },
    {
      "cell_type": "code",
      "source": [
        "def dot_product(arr1, arr2):\n",
        "    if len(arr1) != len(arr2):\n",
        "        raise ValueError(\"Arrays must have the same length.\")\n",
        "\n",
        "    dot_product_result = 0\n",
        "    for a, b in zip(arr1, arr2):    # zip(arr1, arr2) pairs up elements from arr1 and arr2\n",
        "        dot_product_result += a * b\n",
        "\n",
        "    return dot_product_result\n",
        "\n",
        "# Test the function\n",
        "array1 = [1, 2, 3]\n",
        "array2 = [4, 5, 6]\n",
        "print(f\"The dot product of {array1} and {array2} is {dot_product(array1, array2)}\")"
      ],
      "metadata": {
        "colab": {
          "base_uri": "https://localhost:8080/"
        },
        "id": "xw_Is-oH_dLN",
        "outputId": "92bc4779-a06f-45de-d761-7bc315b4be45"
      },
      "execution_count": null,
      "outputs": [
        {
          "output_type": "stream",
          "name": "stdout",
          "text": [
            "The dot product of [1, 2, 3] and [4, 5, 6] is 32\n"
          ]
        }
      ]
    },
    {
      "cell_type": "code",
      "source": [
        "# Create a matrix\n",
        "matrix_a = np.array([[1, 2], [3, 4]])\n",
        "print(\"Matrix A:\\n\", matrix_a)"
      ],
      "metadata": {
        "colab": {
          "base_uri": "https://localhost:8080/"
        },
        "id": "_zCWhrWLAXSL",
        "outputId": "530b3cfe-20f9-47e7-ed83-16f2a1cf431e"
      },
      "execution_count": null,
      "outputs": [
        {
          "output_type": "stream",
          "name": "stdout",
          "text": [
            "Matrix A:\n",
            " [[1 2]\n",
            " [3 4]]\n"
          ]
        }
      ]
    },
    {
      "cell_type": "code",
      "source": [
        "# Matrix transpose\n",
        "matrix_a_transpose = np.transpose(matrix_a)\n",
        "print(\"Transpose of Matrix A:\\n\", matrix_a_transpose)"
      ],
      "metadata": {
        "colab": {
          "base_uri": "https://localhost:8080/"
        },
        "id": "JKGHSGRmAb6v",
        "outputId": "bdbbb9a5-8828-4f23-a51b-ddbd8f516624"
      },
      "execution_count": null,
      "outputs": [
        {
          "output_type": "stream",
          "name": "stdout",
          "text": [
            "Transpose of Matrix A:\n",
            " [[1 3]\n",
            " [2 4]]\n"
          ]
        }
      ]
    },
    {
      "cell_type": "code",
      "source": [
        "# Matrix multiplication\n",
        "matrix_b = np.array([[5, 6], [7, 8]])\n",
        "matrix_product = np.dot(matrix_a, matrix_b)\n",
        "print(\"Dot product of Matrix A and B:\\n\", matrix_product)"
      ],
      "metadata": {
        "colab": {
          "base_uri": "https://localhost:8080/"
        },
        "id": "pQaCX9yvAdRu",
        "outputId": "c3f958a4-397c-436c-f8ff-b97012c5f57e"
      },
      "execution_count": null,
      "outputs": [
        {
          "output_type": "stream",
          "name": "stdout",
          "text": [
            "Dot product of Matrix A and B:\n",
            " [[19 22]\n",
            " [43 50]]\n"
          ]
        }
      ]
    },
    {
      "cell_type": "code",
      "source": [
        "# Element-wise multiplication\n",
        "elementwise_product = matrix_a * matrix_b\n",
        "print(\"Element-wise multiplication of Matrix A and B:\\n\", elementwise_product)"
      ],
      "metadata": {
        "colab": {
          "base_uri": "https://localhost:8080/"
        },
        "id": "p1Iizp6TAenG",
        "outputId": "00bf9d34-dfda-41ec-826c-8324734363d0"
      },
      "execution_count": null,
      "outputs": [
        {
          "output_type": "stream",
          "name": "stdout",
          "text": [
            "Element-wise multiplication of Matrix A and B:\n",
            " [[ 5 12]\n",
            " [21 32]]\n"
          ]
        }
      ]
    },
    {
      "cell_type": "code",
      "source": [
        "# Determinant of a matrix\n",
        "determinant_a = np.linalg.det(matrix_a)\n",
        "print(\"Determinant of Matrix A:\", determinant_a)"
      ],
      "metadata": {
        "colab": {
          "base_uri": "https://localhost:8080/"
        },
        "id": "CCTvPTsvAnPD",
        "outputId": "c1401063-2ce4-467e-c3a6-618cf0c6762d"
      },
      "execution_count": null,
      "outputs": [
        {
          "output_type": "stream",
          "name": "stdout",
          "text": [
            "Determinant of Matrix A: -2.0000000000000004\n"
          ]
        }
      ]
    },
    {
      "cell_type": "code",
      "source": [
        "# Inverse of a matrix\n",
        "if determinant_a != 0:\n",
        "    inverse_a = np.linalg.inv(matrix_a)\n",
        "    print(\"Inverse of Matrix A:\\n\", inverse_a)\n",
        "else:\n",
        "    print(\"Matrix A is singular and does not have an inverse.\")"
      ],
      "metadata": {
        "colab": {
          "base_uri": "https://localhost:8080/"
        },
        "id": "TObSL50qApuN",
        "outputId": "46bd304d-87ba-4ab4-e981-5315cb2c04f1"
      },
      "execution_count": null,
      "outputs": [
        {
          "output_type": "stream",
          "name": "stdout",
          "text": [
            "Inverse of Matrix A:\n",
            " [[-2.   1. ]\n",
            " [ 1.5 -0.5]]\n"
          ]
        }
      ]
    },
    {
      "cell_type": "markdown",
      "source": [
        "### Exercise\n",
        "\n",
        "Verify the associative property of matrix multiplication."
      ],
      "metadata": {
        "id": "EjOfqnGFBaSA"
      }
    },
    {
      "cell_type": "code",
      "source": [
        "# Verifying Associative Law: (A*B)*C = A*(B*C)\n",
        "matrix_c = np.array([[2, 0], [1, 2]])\n",
        "left_associative = np.dot(np.dot(matrix_a, matrix_b), matrix_c)\n",
        "right_associative = np.dot(matrix_a, np.dot(matrix_b, matrix_c))\n",
        "print(\"Associative Law:\", np.array_equal(left_associative, right_associative))"
      ],
      "metadata": {
        "colab": {
          "base_uri": "https://localhost:8080/"
        },
        "id": "T9IykYpRBOQL",
        "outputId": "ab92d76f-6324-4a7a-8853-3ffe93a6f149"
      },
      "execution_count": null,
      "outputs": [
        {
          "output_type": "stream",
          "name": "stdout",
          "text": [
            "Associative Law: True\n"
          ]
        }
      ]
    }
  ]
}