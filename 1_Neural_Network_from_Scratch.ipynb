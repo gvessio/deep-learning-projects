{
  "nbformat": 4,
  "nbformat_minor": 0,
  "metadata": {
    "colab": {
      "provenance": [],
      "gpuType": "T4"
    },
    "kernelspec": {
      "name": "python3",
      "display_name": "Python 3"
    },
    "language_info": {
      "name": "python"
    },
    "accelerator": "GPU"
  },
  "cells": [
    {
      "cell_type": "markdown",
      "source": [
        "# Neural Network from Scratch\n",
        "\n",
        "In this notebook, we will implement a simple neural network from scratch using NumPy and train it on the Digits dataset. We will cover steps such as initializing weights, forward and backward propagation, and updating weights using gradient descent. Our goal is to classify handwritten digit images.\n"
      ],
      "metadata": {
        "id": "V3lBxQrzUQaw"
      }
    },
    {
      "cell_type": "code",
      "execution_count": null,
      "metadata": {
        "id": "ZDU-H0OCUNnk"
      },
      "outputs": [],
      "source": [
        "import numpy as np\n",
        "import matplotlib.pyplot as plt\n",
        "from sklearn.datasets import load_digits\n",
        "from sklearn.model_selection import train_test_split\n",
        "from sklearn.preprocessing import OneHotEncoder\n",
        "from sklearn.metrics import accuracy_score"
      ]
    },
    {
      "cell_type": "code",
      "source": [
        "# Load the Digits dataset\n",
        "digits = load_digits()\n",
        "X = digits.data\n",
        "y = digits.target.reshape(-1, 1)  # Change the shape into a two-dimensional array with one column"
      ],
      "metadata": {
        "id": "GDpUeus3UW4A"
      },
      "execution_count": null,
      "outputs": []
    },
    {
      "cell_type": "code",
      "source": [
        "# Normalize the feature data\n",
        "X = X / 16.0  # Digits are between 0 and 16"
      ],
      "metadata": {
        "id": "6T9-ULEgUa5p"
      },
      "execution_count": null,
      "outputs": []
    },
    {
      "cell_type": "code",
      "source": [
        "# One-hot encode the target variable\n",
        "encoder = OneHotEncoder(sparse_output=False)\n",
        "y_encoded = encoder.fit_transform(y)"
      ],
      "metadata": {
        "id": "PcMAuLHyUcyj"
      },
      "execution_count": null,
      "outputs": []
    },
    {
      "cell_type": "code",
      "source": [
        "y_encoded"
      ],
      "metadata": {
        "colab": {
          "base_uri": "https://localhost:8080/"
        },
        "id": "_4AXOKAPLDnv",
        "outputId": "86b0de8f-d12e-48ee-8fb9-7f6d02966e95"
      },
      "execution_count": null,
      "outputs": [
        {
          "output_type": "execute_result",
          "data": {
            "text/plain": [
              "array([[1., 0., 0., ..., 0., 0., 0.],\n",
              "       [0., 1., 0., ..., 0., 0., 0.],\n",
              "       [0., 0., 1., ..., 0., 0., 0.],\n",
              "       ...,\n",
              "       [0., 0., 0., ..., 0., 1., 0.],\n",
              "       [0., 0., 0., ..., 0., 0., 1.],\n",
              "       [0., 0., 0., ..., 0., 1., 0.]])"
            ]
          },
          "metadata": {},
          "execution_count": 6
        }
      ]
    },
    {
      "cell_type": "code",
      "source": [
        "# Split the dataset into training and testing sets\n",
        "X_train, X_test, y_train, y_test = train_test_split(X, y_encoded, test_size=0.2, random_state=42)"
      ],
      "metadata": {
        "id": "Zvk7Val1Ulq3"
      },
      "execution_count": null,
      "outputs": []
    },
    {
      "cell_type": "code",
      "source": [
        "# Function to plot a grid of digit images with their ground truth labels\n",
        "def plot_digits(X, y, num_images=16):\n",
        "    \"\"\"\n",
        "    Plot a grid of digit images with their ground truth labels.\n",
        "\n",
        "    Parameters:\n",
        "    - X: Feature data (images)\n",
        "    - y: Labels (ground truth)\n",
        "    - num_images: Number of images to display (default is 16)\n",
        "    \"\"\"\n",
        "    plt.figure(figsize=(8, 8))\n",
        "    images_per_row = int(np.sqrt(num_images))\n",
        "    for i in range(num_images):\n",
        "        plt.subplot(images_per_row, images_per_row, i + 1)\n",
        "        plt.imshow(X[i].reshape(8, 8), cmap='gray')\n",
        "        plt.title(f\"Label: {y[i]}\")\n",
        "        plt.axis('off')\n",
        "    plt.tight_layout()\n",
        "    plt.show()\n",
        "\n",
        "# Select a subset of the training data for plotting\n",
        "num_images_to_plot = 16\n",
        "X_plot = X_train[:num_images_to_plot]\n",
        "y_plot = np.argmax(y_train[:num_images_to_plot], axis=1)\n",
        "\n",
        "# Plot the digits with their labels\n",
        "plot_digits(X_plot, y_plot, num_images=num_images_to_plot)"
      ],
      "metadata": {
        "colab": {
          "base_uri": "https://localhost:8080/",
          "height": 806
        },
        "id": "9PtqitneVgts",
        "outputId": "e712e127-4ba5-410f-b495-3db46dfa0f4e"
      },
      "execution_count": null,
      "outputs": [
        {
          "output_type": "display_data",
          "data": {
            "text/plain": [
              "<Figure size 800x800 with 16 Axes>"
            ],
            "image/png": "[encoded data removed]"
          },
          "metadata": {}
        }
      ]
    },
    {
      "cell_type": "code",
      "source": [
        "def initialize_parameters(input_size, hidden_size, output_size):\n",
        "    \"\"\"\n",
        "    Initialize the weights and biases for the neural network.\n",
        "\n",
        "    Parameters:\n",
        "    - input_size: Number of input features\n",
        "    - hidden_size: Number of neurons in the hidden layer\n",
        "    - output_size: Number of output classes\n",
        "\n",
        "    Returns:\n",
        "    - parameters: Dictionary containing initialized weights and biases\n",
        "    \"\"\"\n",
        "    np.random.seed(42)  # For reproducibility\n",
        "    parameters = {\n",
        "        'W1': np.random.randn(input_size, hidden_size) * 0.01,\n",
        "        'b1': np.zeros((1, hidden_size)),\n",
        "        'W2': np.random.randn(hidden_size, output_size) * 0.01,\n",
        "        'b2': np.zeros((1, output_size))\n",
        "    }\n",
        "    return parameters\n",
        "\n",
        "# Initialize parameters\n",
        "input_size = X_train.shape[1]  # 64 features for each digit image (8x8)\n",
        "hidden_size = 32  # You can adjust this\n",
        "output_size = y_train.shape[1]  # 10 output classes (digits 0-9)\n",
        "parameters = initialize_parameters(input_size, hidden_size, output_size)"
      ],
      "metadata": {
        "id": "TYVnXc-2UoOL"
      },
      "execution_count": null,
      "outputs": []
    },
    {
      "cell_type": "code",
      "source": [
        "def sigmoid(z):\n",
        "    return 1 / (1 + np.exp(-z))\n",
        "\n",
        "def softmax(z):\n",
        "    exp_z = np.exp(z)\n",
        "    softmax_probs = exp_z / np.sum(exp_z, axis=1, keepdims=True)\n",
        "    return softmax_probs\n",
        "\n",
        "def compute_loss(y_true, y_pred):\n",
        "    m = y_true.shape[0]\n",
        "    loss = -np.sum(y_true * np.log(y_pred + 1e-9)) / m   # Average cross-entropy loss\n",
        "    return loss"
      ],
      "metadata": {
        "id": "HmGwz5NWUzlJ"
      },
      "execution_count": null,
      "outputs": []
    },
    {
      "cell_type": "code",
      "source": [
        "def forward_propagation(X, parameters):\n",
        "    \"\"\"\n",
        "    Perform forward propagation through the network.\n",
        "\n",
        "    Parameters:\n",
        "    - X: Input data\n",
        "    - parameters: Dictionary containing weights and biases\n",
        "\n",
        "    Returns:\n",
        "    - A2: Output of the output layer (predictions)\n",
        "    - cache: Dictionary containing intermediate values for use in backpropagation\n",
        "    \"\"\"\n",
        "    W1, b1, W2, b2 = parameters['W1'], parameters['b1'], parameters['W2'], parameters['b2']\n",
        "\n",
        "    # Input to hidden layer\n",
        "    Z1 = np.dot(X, W1) + b1\n",
        "    A1 = sigmoid(Z1)\n",
        "\n",
        "    # Hidden to output layer\n",
        "    Z2 = np.dot(A1, W2) + b2\n",
        "    A2 = softmax(Z2)\n",
        "\n",
        "    cache = {'Z1': Z1, 'A1': A1, 'Z2': Z2, 'A2': A2}\n",
        "    return A2, cache\n",
        "\n",
        "# Perform a forward pass with the training data\n",
        "A2, cache = forward_propagation(X_train, parameters)\n",
        "print(f\"Initial Loss: {compute_loss(y_train, A2):.4f}\")"
      ],
      "metadata": {
        "colab": {
          "base_uri": "https://localhost:8080/"
        },
        "id": "12bxfHb4U5Wo",
        "outputId": "c725bc6c-0804-45b7-abe0-6f04918d749c"
      },
      "execution_count": null,
      "outputs": [
        {
          "output_type": "stream",
          "name": "stdout",
          "text": [
            "Initial Loss: 2.3027\n"
          ]
        }
      ]
    },
    {
      "cell_type": "code",
      "source": [
        "def backward_propagation(X, y, parameters, cache):\n",
        "    \"\"\"\n",
        "    Perform backward propagation through the network.\n",
        "\n",
        "    Parameters:\n",
        "    - X: Input data\n",
        "    - y: True labels\n",
        "    - parameters: Dictionary containing weights and biases\n",
        "    - cache: Dictionary containing intermediate values from forward propagation\n",
        "\n",
        "    Returns:\n",
        "    - grads: Dictionary containing gradients of weights and biases\n",
        "    \"\"\"\n",
        "    m = X.shape[0]\n",
        "    W1, W2 = parameters['W1'], parameters['W2']\n",
        "    A1, A2 = cache['A1'], cache['A2']\n",
        "\n",
        "    # Output layer gradients\n",
        "    dZ2 = A2 - y\n",
        "    dW2 = np.dot(A1.T, dZ2) / m\n",
        "    db2 = np.sum(dZ2, axis=0, keepdims=True) / m\n",
        "\n",
        "    # Hidden layer gradients\n",
        "    dA1 = np.dot(dZ2, W2.T)\n",
        "    dZ1 = dA1 * (A1 * (1 - A1))  # Sigmoid derivative\n",
        "    dW1 = np.dot(X.T, dZ1) / m\n",
        "    db1 = np.sum(dZ1, axis=0, keepdims=True) / m\n",
        "\n",
        "    grads = {'dW1': dW1, 'db1': db1, 'dW2': dW2, 'db2': db2}\n",
        "    return grads"
      ],
      "metadata": {
        "id": "_KsQ59rLU8G7"
      },
      "execution_count": null,
      "outputs": []
    },
    {
      "cell_type": "code",
      "source": [
        "def update_parameters(parameters, grads, learning_rate):\n",
        "    \"\"\"\n",
        "    Update the weights and biases using gradient descent.\n",
        "\n",
        "    Parameters:\n",
        "    - parameters: Dictionary containing weights and biases\n",
        "    - grads: Dictionary containing gradients of weights and biases\n",
        "    - learning_rate: Learning rate for gradient descent\n",
        "\n",
        "    Returns:\n",
        "    - parameters: Updated weights and biases\n",
        "    \"\"\"\n",
        "    parameters['W1'] -= learning_rate * grads['dW1']\n",
        "    parameters['b1'] -= learning_rate * grads['db1']\n",
        "    parameters['W2'] -= learning_rate * grads['dW2']\n",
        "    parameters['b2'] -= learning_rate * grads['db2']\n",
        "    return parameters"
      ],
      "metadata": {
        "id": "W8PTh1YGVBR1"
      },
      "execution_count": null,
      "outputs": []
    },
    {
      "cell_type": "code",
      "source": [
        "def train(X, y, input_size, hidden_size, output_size, learning_rate, num_iterations):\n",
        "    \"\"\"\n",
        "    Train the neural network.\n",
        "\n",
        "    Parameters:\n",
        "    - X: Input data\n",
        "    - y: True labels\n",
        "    - input_size: Number of input features\n",
        "    - hidden_size: Number of neurons in the hidden layer\n",
        "    - output_size: Number of output classes\n",
        "    - learning_rate: Learning rate for gradient descent\n",
        "    - num_iterations: Number of iterations to train\n",
        "\n",
        "    Returns:\n",
        "    - parameters: Trained weights and biases\n",
        "    \"\"\"\n",
        "    parameters = initialize_parameters(input_size, hidden_size, output_size)\n",
        "\n",
        "    for i in range(num_iterations):\n",
        "        # Forward propagation\n",
        "        A2, cache = forward_propagation(X, parameters)\n",
        "\n",
        "        # Compute loss\n",
        "        loss = compute_loss(y, A2)\n",
        "\n",
        "        # Backward propagation\n",
        "        grads = backward_propagation(X, y, parameters, cache)\n",
        "\n",
        "        # Update parameters\n",
        "        parameters = update_parameters(parameters, grads, learning_rate)\n",
        "\n",
        "        if i % 100 == 0 or i == num_iterations - 1:\n",
        "            print(f\"Iteration {i}: Loss = {loss:.4f}\")\n",
        "\n",
        "    return parameters\n",
        "\n",
        "# Train the model\n",
        "parameters = train(X_train, y_train, input_size, hidden_size, output_size, learning_rate=0.1, num_iterations=1000)"
      ],
      "metadata": {
        "colab": {
          "base_uri": "https://localhost:8080/"
        },
        "id": "fVCQFjlAVDw9",
        "outputId": "ec057dc8-58c8-4d19-956f-5228c0b3b653"
      },
      "execution_count": null,
      "outputs": [
        {
          "output_type": "stream",
          "name": "stdout",
          "text": [
            "Iteration 0: Loss = 2.3027\n",
            "Iteration 100: Loss = 2.3009\n",
            "Iteration 200: Loss = 2.2988\n",
            "Iteration 300: Loss = 2.2932\n",
            "Iteration 400: Loss = 2.2769\n",
            "Iteration 500: Loss = 2.2308\n",
            "Iteration 600: Loss = 2.1175\n",
            "Iteration 700: Loss = 1.9124\n",
            "Iteration 800: Loss = 1.6607\n",
            "Iteration 900: Loss = 1.4269\n",
            "Iteration 999: Loss = 1.2338\n"
          ]
        }
      ]
    },
    {
      "cell_type": "code",
      "source": [
        "def predict(X, parameters):\n",
        "    \"\"\"\n",
        "    Predict the labels for given input data.\n",
        "\n",
        "    Parameters:\n",
        "    - X: Input data\n",
        "    - parameters: Trained weights and biases\n",
        "\n",
        "    Returns:\n",
        "    - predictions: Predicted labels\n",
        "    \"\"\"\n",
        "    A2, _ = forward_propagation(X, parameters)\n",
        "    predictions = np.argmax(A2, axis=1)\n",
        "    return predictions\n",
        "\n",
        "# Make predictions on the test set\n",
        "y_pred_train = predict(X_train, parameters)\n",
        "y_pred_test = predict(X_test, parameters)\n",
        "\n",
        "# Convert one-hot encoded labels to single labels\n",
        "y_train_labels = np.argmax(y_train, axis=1)\n",
        "y_test_labels = np.argmax(y_test, axis=1)\n",
        "\n",
        "# Calculate and print accuracy\n",
        "train_accuracy = accuracy_score(y_train_labels, y_pred_train)\n",
        "test_accuracy = accuracy_score(y_test_labels, y_pred_test)\n",
        "print(f\"Training Accuracy: {train_accuracy * 100:.2f}%\")\n",
        "print(f\"Testing Accuracy: {test_accuracy * 100:.2f}%\")"
      ],
      "metadata": {
        "colab": {
          "base_uri": "https://localhost:8080/"
        },
        "id": "TNQkd6TcVK1W",
        "outputId": "c2ae4abb-dd84-4f51-c140-fd3c74edfa94"
      },
      "execution_count": null,
      "outputs": [
        {
          "output_type": "stream",
          "name": "stdout",
          "text": [
            "Training Accuracy: 71.82%\n",
            "Testing Accuracy: 73.33%\n"
          ]
        }
      ]
    },
    {
      "cell_type": "markdown",
      "source": [
        "## Exercises\n",
        "\n",
        "* Experiment with the neural network architecture by changing the number of neurons in the hidden layer.\n",
        "* Replace the sigmoid activation function in the hidden layer with the ReLU activation function.\n",
        "* Explore the effect of different learning rates on the training process and model performance.\n",
        "* Visualize how the network's predictions evolve over time."
      ],
      "metadata": {
        "id": "PhkNojB8V4h3"
      }
    }
  ]
}